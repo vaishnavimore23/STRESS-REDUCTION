{
  "cells": [
    {
      "cell_type": "markdown",
      "id": "021fcb09",
      "metadata": {
        "id": "021fcb09",
        "papermill": {
          "duration": 0.029281,
          "end_time": "2022-07-06T12:07:33.304776",
          "exception": false,
          "start_time": "2022-07-06T12:07:33.275495",
          "status": "completed"
        },
        "tags": []
      },
      "source": [
        "# Human Stress Detection using Multi-Layer Perceptrons"
      ]
    },
    {
      "cell_type": "code",
      "execution_count": 1,
      "id": "228e8641",
      "metadata": {
        "execution": {
          "iopub.execute_input": "2022-07-06T12:07:33.380656Z",
          "iopub.status.busy": "2022-07-06T12:07:33.379721Z",
          "iopub.status.idle": "2022-07-06T12:07:34.446110Z",
          "shell.execute_reply": "2022-07-06T12:07:34.445392Z",
          "shell.execute_reply.started": "2022-07-03T16:13:42.183089Z"
        },
        "id": "228e8641",
        "papermill": {
          "duration": 1.109088,
          "end_time": "2022-07-06T12:07:34.446296",
          "exception": false,
          "start_time": "2022-07-06T12:07:33.337208",
          "status": "completed"
        },
        "tags": []
      },
      "outputs": [],
      "source": [
        "import pandas as pd\n",
        "import numpy as np\n",
        "import matplotlib.pyplot as plot\n",
        "import seaborn as sb"
      ]
    },
    {
      "cell_type": "markdown",
      "id": "91fc7297",
      "metadata": {
        "id": "91fc7297",
        "papermill": {
          "duration": 0.028545,
          "end_time": "2022-07-06T12:07:34.503457",
          "exception": false,
          "start_time": "2022-07-06T12:07:34.474912",
          "status": "completed"
        },
        "tags": []
      },
      "source": [
        "<div style=\"font-size:1.5em;\"><b>Reading the dataset</b></div>"
      ]
    },
    {
      "cell_type": "code",
      "execution_count": 3,
      "id": "8cfa4c9c",
      "metadata": {
        "colab": {
          "base_uri": "https://localhost:8080/",
          "height": 206
        },
        "execution": {
          "iopub.execute_input": "2022-07-06T12:07:34.567667Z",
          "iopub.status.busy": "2022-07-06T12:07:34.566923Z",
          "iopub.status.idle": "2022-07-06T12:07:34.607090Z",
          "shell.execute_reply": "2022-07-06T12:07:34.607671Z",
          "shell.execute_reply.started": "2022-07-03T16:13:43.38486Z"
        },
        "id": "8cfa4c9c",
        "outputId": "e88127b1-2304-452b-e756-991993583c57",
        "papermill": {
          "duration": 0.075742,
          "end_time": "2022-07-06T12:07:34.607885",
          "exception": false,
          "start_time": "2022-07-06T12:07:34.532143",
          "status": "completed"
        },
        "tags": []
      },
      "outputs": [
        {
          "data": {
            "text/html": [
              "<div>\n",
              "<style scoped>\n",
              "    .dataframe tbody tr th:only-of-type {\n",
              "        vertical-align: middle;\n",
              "    }\n",
              "\n",
              "    .dataframe tbody tr th {\n",
              "        vertical-align: top;\n",
              "    }\n",
              "\n",
              "    .dataframe thead th {\n",
              "        text-align: right;\n",
              "    }\n",
              "</style>\n",
              "<table border=\"1\" class=\"dataframe\">\n",
              "  <thead>\n",
              "    <tr style=\"text-align: right;\">\n",
              "      <th></th>\n",
              "      <th>sr</th>\n",
              "      <th>rr</th>\n",
              "      <th>t</th>\n",
              "      <th>lm</th>\n",
              "      <th>bo</th>\n",
              "      <th>rem</th>\n",
              "      <th>sr.1</th>\n",
              "      <th>hr</th>\n",
              "      <th>sl</th>\n",
              "    </tr>\n",
              "  </thead>\n",
              "  <tbody>\n",
              "    <tr>\n",
              "      <th>0</th>\n",
              "      <td>93.80</td>\n",
              "      <td>25.680</td>\n",
              "      <td>91.840</td>\n",
              "      <td>16.600</td>\n",
              "      <td>89.840</td>\n",
              "      <td>99.60</td>\n",
              "      <td>1.840</td>\n",
              "      <td>74.20</td>\n",
              "      <td>3</td>\n",
              "    </tr>\n",
              "    <tr>\n",
              "      <th>1</th>\n",
              "      <td>91.64</td>\n",
              "      <td>25.104</td>\n",
              "      <td>91.552</td>\n",
              "      <td>15.880</td>\n",
              "      <td>89.552</td>\n",
              "      <td>98.88</td>\n",
              "      <td>1.552</td>\n",
              "      <td>72.76</td>\n",
              "      <td>3</td>\n",
              "    </tr>\n",
              "    <tr>\n",
              "      <th>2</th>\n",
              "      <td>60.00</td>\n",
              "      <td>20.000</td>\n",
              "      <td>96.000</td>\n",
              "      <td>10.000</td>\n",
              "      <td>95.000</td>\n",
              "      <td>85.00</td>\n",
              "      <td>7.000</td>\n",
              "      <td>60.00</td>\n",
              "      <td>1</td>\n",
              "    </tr>\n",
              "    <tr>\n",
              "      <th>3</th>\n",
              "      <td>85.76</td>\n",
              "      <td>23.536</td>\n",
              "      <td>90.768</td>\n",
              "      <td>13.920</td>\n",
              "      <td>88.768</td>\n",
              "      <td>96.92</td>\n",
              "      <td>0.768</td>\n",
              "      <td>68.84</td>\n",
              "      <td>3</td>\n",
              "    </tr>\n",
              "    <tr>\n",
              "      <th>4</th>\n",
              "      <td>48.12</td>\n",
              "      <td>17.248</td>\n",
              "      <td>97.872</td>\n",
              "      <td>6.496</td>\n",
              "      <td>96.248</td>\n",
              "      <td>72.48</td>\n",
              "      <td>8.248</td>\n",
              "      <td>53.12</td>\n",
              "      <td>0</td>\n",
              "    </tr>\n",
              "  </tbody>\n",
              "</table>\n",
              "</div>"
            ],
            "text/plain": [
              "      sr      rr       t      lm      bo    rem   sr.1     hr  sl\n",
              "0  93.80  25.680  91.840  16.600  89.840  99.60  1.840  74.20   3\n",
              "1  91.64  25.104  91.552  15.880  89.552  98.88  1.552  72.76   3\n",
              "2  60.00  20.000  96.000  10.000  95.000  85.00  7.000  60.00   1\n",
              "3  85.76  23.536  90.768  13.920  88.768  96.92  0.768  68.84   3\n",
              "4  48.12  17.248  97.872   6.496  96.248  72.48  8.248  53.12   0"
            ]
          },
          "execution_count": 3,
          "metadata": {},
          "output_type": "execute_result"
        }
      ],
      "source": [
        "data=pd.read_csv(r\"C:\\Users\\njain12\\Desktop\\FullyHack2023_Project\\Stress_Reduction\\static\\SaYoPillow.csv\")\n",
        "data.head()"
      ]
    },
    {
      "cell_type": "code",
      "execution_count": 4,
      "id": "8401e599",
      "metadata": {
        "colab": {
          "base_uri": "https://localhost:8080/"
        },
        "execution": {
          "iopub.execute_input": "2022-07-06T12:07:34.671960Z",
          "iopub.status.busy": "2022-07-06T12:07:34.671225Z",
          "iopub.status.idle": "2022-07-06T12:07:34.674060Z",
          "shell.execute_reply": "2022-07-06T12:07:34.674670Z",
          "shell.execute_reply.started": "2022-07-03T16:13:43.432605Z"
        },
        "id": "8401e599",
        "outputId": "b8424ef1-070e-40d4-98b5-9494e23721fb",
        "papermill": {
          "duration": 0.03793,
          "end_time": "2022-07-06T12:07:34.674856",
          "exception": false,
          "start_time": "2022-07-06T12:07:34.636926",
          "status": "completed"
        },
        "tags": []
      },
      "outputs": [
        {
          "data": {
            "text/plain": [
              "(630, 9)"
            ]
          },
          "execution_count": 4,
          "metadata": {},
          "output_type": "execute_result"
        }
      ],
      "source": [
        "data.shape"
      ]
    },
    {
      "cell_type": "markdown",
      "id": "a5b27815",
      "metadata": {
        "id": "a5b27815",
        "papermill": {
          "duration": 0.029099,
          "end_time": "2022-07-06T12:07:34.734339",
          "exception": false,
          "start_time": "2022-07-06T12:07:34.705240",
          "status": "completed"
        },
        "tags": []
      },
      "source": [
        "<div style=\"font-size:1.2em;\">I'm renaming the columns here just for easy understanding.</div>"
      ]
    },
    {
      "cell_type": "code",
      "execution_count": 5,
      "id": "d4c843d5",
      "metadata": {
        "colab": {
          "base_uri": "https://localhost:8080/",
          "height": 270
        },
        "execution": {
          "iopub.execute_input": "2022-07-06T12:07:34.800911Z",
          "iopub.status.busy": "2022-07-06T12:07:34.800227Z",
          "iopub.status.idle": "2022-07-06T12:07:34.817498Z",
          "shell.execute_reply": "2022-07-06T12:07:34.818064Z",
          "shell.execute_reply.started": "2022-07-03T16:13:43.44153Z"
        },
        "id": "d4c843d5",
        "outputId": "33cb761b-0b58-443b-841c-de7535a9cd30",
        "papermill": {
          "duration": 0.052244,
          "end_time": "2022-07-06T12:07:34.818250",
          "exception": false,
          "start_time": "2022-07-06T12:07:34.766006",
          "status": "completed"
        },
        "tags": []
      },
      "outputs": [
        {
          "data": {
            "text/html": [
              "<div>\n",
              "<style scoped>\n",
              "    .dataframe tbody tr th:only-of-type {\n",
              "        vertical-align: middle;\n",
              "    }\n",
              "\n",
              "    .dataframe tbody tr th {\n",
              "        vertical-align: top;\n",
              "    }\n",
              "\n",
              "    .dataframe thead th {\n",
              "        text-align: right;\n",
              "    }\n",
              "</style>\n",
              "<table border=\"1\" class=\"dataframe\">\n",
              "  <thead>\n",
              "    <tr style=\"text-align: right;\">\n",
              "      <th></th>\n",
              "      <th>snoring_rate</th>\n",
              "      <th>respiration_rate</th>\n",
              "      <th>body_temperature</th>\n",
              "      <th>limb_movement</th>\n",
              "      <th>blood_oxygen</th>\n",
              "      <th>eye_movement</th>\n",
              "      <th>sleeping_hours</th>\n",
              "      <th>heart_rate</th>\n",
              "      <th>stress_level</th>\n",
              "    </tr>\n",
              "  </thead>\n",
              "  <tbody>\n",
              "    <tr>\n",
              "      <th>0</th>\n",
              "      <td>93.80</td>\n",
              "      <td>25.680</td>\n",
              "      <td>91.840</td>\n",
              "      <td>16.600</td>\n",
              "      <td>89.840</td>\n",
              "      <td>99.60</td>\n",
              "      <td>1.840</td>\n",
              "      <td>74.20</td>\n",
              "      <td>3</td>\n",
              "    </tr>\n",
              "    <tr>\n",
              "      <th>1</th>\n",
              "      <td>91.64</td>\n",
              "      <td>25.104</td>\n",
              "      <td>91.552</td>\n",
              "      <td>15.880</td>\n",
              "      <td>89.552</td>\n",
              "      <td>98.88</td>\n",
              "      <td>1.552</td>\n",
              "      <td>72.76</td>\n",
              "      <td>3</td>\n",
              "    </tr>\n",
              "    <tr>\n",
              "      <th>2</th>\n",
              "      <td>60.00</td>\n",
              "      <td>20.000</td>\n",
              "      <td>96.000</td>\n",
              "      <td>10.000</td>\n",
              "      <td>95.000</td>\n",
              "      <td>85.00</td>\n",
              "      <td>7.000</td>\n",
              "      <td>60.00</td>\n",
              "      <td>1</td>\n",
              "    </tr>\n",
              "    <tr>\n",
              "      <th>3</th>\n",
              "      <td>85.76</td>\n",
              "      <td>23.536</td>\n",
              "      <td>90.768</td>\n",
              "      <td>13.920</td>\n",
              "      <td>88.768</td>\n",
              "      <td>96.92</td>\n",
              "      <td>0.768</td>\n",
              "      <td>68.84</td>\n",
              "      <td>3</td>\n",
              "    </tr>\n",
              "    <tr>\n",
              "      <th>4</th>\n",
              "      <td>48.12</td>\n",
              "      <td>17.248</td>\n",
              "      <td>97.872</td>\n",
              "      <td>6.496</td>\n",
              "      <td>96.248</td>\n",
              "      <td>72.48</td>\n",
              "      <td>8.248</td>\n",
              "      <td>53.12</td>\n",
              "      <td>0</td>\n",
              "    </tr>\n",
              "  </tbody>\n",
              "</table>\n",
              "</div>"
            ],
            "text/plain": [
              "   snoring_rate  respiration_rate  body_temperature  limb_movement  \\\n",
              "0         93.80            25.680            91.840         16.600   \n",
              "1         91.64            25.104            91.552         15.880   \n",
              "2         60.00            20.000            96.000         10.000   \n",
              "3         85.76            23.536            90.768         13.920   \n",
              "4         48.12            17.248            97.872          6.496   \n",
              "\n",
              "   blood_oxygen  eye_movement  sleeping_hours  heart_rate  stress_level  \n",
              "0        89.840         99.60           1.840       74.20             3  \n",
              "1        89.552         98.88           1.552       72.76             3  \n",
              "2        95.000         85.00           7.000       60.00             1  \n",
              "3        88.768         96.92           0.768       68.84             3  \n",
              "4        96.248         72.48           8.248       53.12             0  "
            ]
          },
          "execution_count": 5,
          "metadata": {},
          "output_type": "execute_result"
        }
      ],
      "source": [
        "data.columns=['snoring_rate', 'respiration_rate', 'body_temperature', 'limb_movement', 'blood_oxygen', \\\n",
        "             'eye_movement', 'sleeping_hours', 'heart_rate', 'stress_level']\n",
        "data.head()"
      ]
    },
    {
      "cell_type": "code",
      "execution_count": 6,
      "id": "pmkH8XmRxT5b",
      "metadata": {
        "id": "pmkH8XmRxT5b"
      },
      "outputs": [],
      "source": [
        "data=data.drop(['snoring_rate','body_temperature','eye_movement'],axis=1)"
      ]
    },
    {
      "cell_type": "markdown",
      "id": "c546a52f",
      "metadata": {
        "id": "c546a52f",
        "papermill": {
          "duration": 0.030682,
          "end_time": "2022-07-06T12:07:34.879280",
          "exception": false,
          "start_time": "2022-07-06T12:07:34.848598",
          "status": "completed"
        },
        "tags": []
      },
      "source": [
        "<div style=\"font-size:1.5em;\"><b>Checking for null values</b></div>"
      ]
    },
    {
      "cell_type": "code",
      "execution_count": 7,
      "id": "99312a07",
      "metadata": {
        "colab": {
          "base_uri": "https://localhost:8080/"
        },
        "execution": {
          "iopub.execute_input": "2022-07-06T12:07:34.943735Z",
          "iopub.status.busy": "2022-07-06T12:07:34.943032Z",
          "iopub.status.idle": "2022-07-06T12:07:34.950737Z",
          "shell.execute_reply": "2022-07-06T12:07:34.951447Z",
          "shell.execute_reply.started": "2022-07-03T16:13:43.46633Z"
        },
        "id": "99312a07",
        "outputId": "6db92468-1770-4f00-c5b8-931c0dced36e",
        "papermill": {
          "duration": 0.041758,
          "end_time": "2022-07-06T12:07:34.951637",
          "exception": false,
          "start_time": "2022-07-06T12:07:34.909879",
          "status": "completed"
        },
        "tags": []
      },
      "outputs": [
        {
          "data": {
            "text/plain": [
              "respiration_rate    False\n",
              "limb_movement       False\n",
              "blood_oxygen        False\n",
              "sleeping_hours      False\n",
              "heart_rate          False\n",
              "stress_level        False\n",
              "dtype: bool"
            ]
          },
          "execution_count": 7,
          "metadata": {},
          "output_type": "execute_result"
        }
      ],
      "source": [
        "data.isnull().any()"
      ]
    },
    {
      "cell_type": "markdown",
      "id": "1e289485",
      "metadata": {
        "id": "1e289485",
        "papermill": {
          "duration": 0.030394,
          "end_time": "2022-07-06T12:07:35.012639",
          "exception": false,
          "start_time": "2022-07-06T12:07:34.982245",
          "status": "completed"
        },
        "tags": []
      },
      "source": [
        "<div style=\"font-size:1.2em;\">Since there are no null values, I'm proceeding to the next step.</div>"
      ]
    },
    {
      "cell_type": "markdown",
      "id": "06ff64bf",
      "metadata": {
        "id": "06ff64bf",
        "papermill": {
          "duration": 0.0303,
          "end_time": "2022-07-06T12:07:35.073593",
          "exception": false,
          "start_time": "2022-07-06T12:07:35.043293",
          "status": "completed"
        },
        "tags": []
      },
      "source": [
        "<div style=\"font-size:1.5em;\"><b>Splitting the data into Train and Test datasets</b></div>"
      ]
    },
    {
      "cell_type": "code",
      "execution_count": 8,
      "id": "9796d8a3",
      "metadata": {
        "execution": {
          "iopub.execute_input": "2022-07-06T12:07:35.137855Z",
          "iopub.status.busy": "2022-07-06T12:07:35.137173Z",
          "iopub.status.idle": "2022-07-06T12:07:35.326585Z",
          "shell.execute_reply": "2022-07-06T12:07:35.325941Z",
          "shell.execute_reply.started": "2022-07-03T16:13:43.477287Z"
        },
        "id": "9796d8a3",
        "papermill": {
          "duration": 0.222654,
          "end_time": "2022-07-06T12:07:35.326754",
          "exception": false,
          "start_time": "2022-07-06T12:07:35.104100",
          "status": "completed"
        },
        "tags": []
      },
      "outputs": [],
      "source": [
        "from sklearn.model_selection import train_test_split"
      ]
    },
    {
      "cell_type": "code",
      "execution_count": 9,
      "id": "f76703a6",
      "metadata": {
        "colab": {
          "base_uri": "https://localhost:8080/"
        },
        "execution": {
          "iopub.execute_input": "2022-07-06T12:07:35.406703Z",
          "iopub.status.busy": "2022-07-06T12:07:35.402608Z",
          "iopub.status.idle": "2022-07-06T12:07:35.410066Z",
          "shell.execute_reply": "2022-07-06T12:07:35.410652Z",
          "shell.execute_reply.started": "2022-07-03T16:13:43.707171Z"
        },
        "id": "f76703a6",
        "outputId": "736f3530-765a-4de0-c7ab-b1765e84a8d6",
        "papermill": {
          "duration": 0.052991,
          "end_time": "2022-07-06T12:07:35.410875",
          "exception": false,
          "start_time": "2022-07-06T12:07:35.357884",
          "status": "completed"
        },
        "tags": []
      },
      "outputs": [
        {
          "data": {
            "text/plain": [
              "((504, 5), (126, 5))"
            ]
          },
          "execution_count": 9,
          "metadata": {},
          "output_type": "execute_result"
        }
      ],
      "source": [
        "X_train, X_test, y_train, y_test=train_test_split(data.iloc[:, :5], data['stress_level'], \\\n",
        "                                                  test_size=0.2, random_state=8)\n",
        "X_train.shape, X_test.shape"
      ]
    },
    {
      "cell_type": "markdown",
      "id": "2b98b97d",
      "metadata": {
        "id": "2b98b97d",
        "papermill": {
          "duration": 0.031585,
          "end_time": "2022-07-06T12:07:35.474138",
          "exception": false,
          "start_time": "2022-07-06T12:07:35.442553",
          "status": "completed"
        },
        "tags": []
      },
      "source": [
        "<div style=\"font-size:1.5em;\"><b>Performing One Hot Encoding on Labels</b></div>"
      ]
    },
    {
      "cell_type": "markdown",
      "id": "0a6c3897",
      "metadata": {
        "id": "0a6c3897",
        "papermill": {
          "duration": 0.030304,
          "end_time": "2022-07-06T12:07:35.535820",
          "exception": false,
          "start_time": "2022-07-06T12:07:35.505516",
          "status": "completed"
        },
        "tags": []
      },
      "source": [
        "<div style=\"font-size:1.2em;\">I'm converting the labels to binary matrices before feeding them to the MLP model.</div>"
      ]
    },
    {
      "cell_type": "code",
      "execution_count": 10,
      "id": "x24Ve23f2Ns9",
      "metadata": {
        "colab": {
          "base_uri": "https://localhost:8080/",
          "height": 206
        },
        "id": "x24Ve23f2Ns9",
        "outputId": "4cf568ea-a19b-4370-b77f-02270bd692b8"
      },
      "outputs": [
        {
          "data": {
            "text/html": [
              "<div>\n",
              "<style scoped>\n",
              "    .dataframe tbody tr th:only-of-type {\n",
              "        vertical-align: middle;\n",
              "    }\n",
              "\n",
              "    .dataframe tbody tr th {\n",
              "        vertical-align: top;\n",
              "    }\n",
              "\n",
              "    .dataframe thead th {\n",
              "        text-align: right;\n",
              "    }\n",
              "</style>\n",
              "<table border=\"1\" class=\"dataframe\">\n",
              "  <thead>\n",
              "    <tr style=\"text-align: right;\">\n",
              "      <th></th>\n",
              "      <th>respiration_rate</th>\n",
              "      <th>limb_movement</th>\n",
              "      <th>blood_oxygen</th>\n",
              "      <th>sleeping_hours</th>\n",
              "      <th>heart_rate</th>\n",
              "    </tr>\n",
              "  </thead>\n",
              "  <tbody>\n",
              "    <tr>\n",
              "      <th>303</th>\n",
              "      <td>25.136</td>\n",
              "      <td>15.920</td>\n",
              "      <td>89.568</td>\n",
              "      <td>1.568</td>\n",
              "      <td>72.84</td>\n",
              "    </tr>\n",
              "    <tr>\n",
              "      <th>186</th>\n",
              "      <td>16.816</td>\n",
              "      <td>5.632</td>\n",
              "      <td>95.816</td>\n",
              "      <td>7.816</td>\n",
              "      <td>52.04</td>\n",
              "    </tr>\n",
              "    <tr>\n",
              "      <th>12</th>\n",
              "      <td>17.440</td>\n",
              "      <td>6.880</td>\n",
              "      <td>96.440</td>\n",
              "      <td>8.440</td>\n",
              "      <td>53.60</td>\n",
              "    </tr>\n",
              "    <tr>\n",
              "      <th>8</th>\n",
              "      <td>16.112</td>\n",
              "      <td>4.224</td>\n",
              "      <td>95.112</td>\n",
              "      <td>7.112</td>\n",
              "      <td>50.28</td>\n",
              "    </tr>\n",
              "    <tr>\n",
              "      <th>543</th>\n",
              "      <td>29.296</td>\n",
              "      <td>18.648</td>\n",
              "      <td>86.944</td>\n",
              "      <td>0.000</td>\n",
              "      <td>83.24</td>\n",
              "    </tr>\n",
              "  </tbody>\n",
              "</table>\n",
              "</div>"
            ],
            "text/plain": [
              "     respiration_rate  limb_movement  blood_oxygen  sleeping_hours  heart_rate\n",
              "303            25.136         15.920        89.568           1.568       72.84\n",
              "186            16.816          5.632        95.816           7.816       52.04\n",
              "12             17.440          6.880        96.440           8.440       53.60\n",
              "8              16.112          4.224        95.112           7.112       50.28\n",
              "543            29.296         18.648        86.944           0.000       83.24"
            ]
          },
          "execution_count": 10,
          "metadata": {},
          "output_type": "execute_result"
        }
      ],
      "source": [
        "X_train.head()"
      ]
    },
    {
      "cell_type": "code",
      "execution_count": 11,
      "id": "534e06bb",
      "metadata": {
        "execution": {
          "iopub.execute_input": "2022-07-06T12:07:35.602417Z",
          "iopub.status.busy": "2022-07-06T12:07:35.601665Z",
          "iopub.status.idle": "2022-07-06T12:07:41.980938Z",
          "shell.execute_reply": "2022-07-06T12:07:41.981539Z",
          "shell.execute_reply.started": "2022-07-03T16:13:43.726336Z"
        },
        "id": "534e06bb",
        "papermill": {
          "duration": 6.415169,
          "end_time": "2022-07-06T12:07:41.981729",
          "exception": false,
          "start_time": "2022-07-06T12:07:35.566560",
          "status": "completed"
        },
        "tags": []
      },
      "outputs": [],
      "source": [
        "from tensorflow.keras.utils import to_categorical"
      ]
    },
    {
      "cell_type": "code",
      "execution_count": 12,
      "id": "f64e0091",
      "metadata": {
        "colab": {
          "base_uri": "https://localhost:8080/"
        },
        "execution": {
          "iopub.execute_input": "2022-07-06T12:07:42.049160Z",
          "iopub.status.busy": "2022-07-06T12:07:42.048463Z",
          "iopub.status.idle": "2022-07-06T12:07:42.053878Z",
          "shell.execute_reply": "2022-07-06T12:07:42.054532Z",
          "shell.execute_reply.started": "2022-07-03T16:13:51.162064Z"
        },
        "id": "f64e0091",
        "outputId": "cbb2a15f-614d-4b81-fa37-715d93370fd5",
        "papermill": {
          "duration": 0.042012,
          "end_time": "2022-07-06T12:07:42.054718",
          "exception": false,
          "start_time": "2022-07-06T12:07:42.012706",
          "status": "completed"
        },
        "tags": []
      },
      "outputs": [
        {
          "data": {
            "text/plain": [
              "array([[0., 0., 0., 1., 0.],\n",
              "       [1., 0., 0., 0., 0.],\n",
              "       [1., 0., 0., 0., 0.],\n",
              "       [1., 0., 0., 0., 0.],\n",
              "       [0., 0., 0., 0., 1.]], dtype=float32)"
            ]
          },
          "execution_count": 12,
          "metadata": {},
          "output_type": "execute_result"
        }
      ],
      "source": [
        "num_classes=5\n",
        "y_train=to_categorical(y_train, num_classes)\n",
        "y_test=to_categorical(y_test, num_classes)\n",
        "y_train[:5]"
      ]
    },
    {
      "cell_type": "markdown",
      "id": "0bb148e5",
      "metadata": {
        "id": "0bb148e5",
        "papermill": {
          "duration": 0.030516,
          "end_time": "2022-07-06T12:07:42.115891",
          "exception": false,
          "start_time": "2022-07-06T12:07:42.085375",
          "status": "completed"
        },
        "tags": []
      },
      "source": [
        "<div style=\"font-size:1.5em;\"><b>Multi-layer Perceptron model</b></div>"
      ]
    },
    {
      "cell_type": "markdown",
      "id": "138f1a87",
      "metadata": {
        "id": "138f1a87",
        "papermill": {
          "duration": 0.030792,
          "end_time": "2022-07-06T12:07:42.178051",
          "exception": false,
          "start_time": "2022-07-06T12:07:42.147259",
          "status": "completed"
        },
        "tags": []
      },
      "source": [
        "<div style=\"font-size:1.2em;\">I'm using two hidden layers with 125 nodes and 'ReLU' activation in each layer.</div>"
      ]
    },
    {
      "cell_type": "code",
      "execution_count": 13,
      "id": "8ddadb47",
      "metadata": {
        "execution": {
          "iopub.execute_input": "2022-07-06T12:07:42.244663Z",
          "iopub.status.busy": "2022-07-06T12:07:42.243974Z",
          "iopub.status.idle": "2022-07-06T12:07:42.249641Z",
          "shell.execute_reply": "2022-07-06T12:07:42.250230Z",
          "shell.execute_reply.started": "2022-07-03T16:13:51.175747Z"
        },
        "id": "8ddadb47",
        "papermill": {
          "duration": 0.041086,
          "end_time": "2022-07-06T12:07:42.250465",
          "exception": false,
          "start_time": "2022-07-06T12:07:42.209379",
          "status": "completed"
        },
        "tags": []
      },
      "outputs": [],
      "source": [
        "from tensorflow.keras.models import Sequential\n",
        "from tensorflow.keras.layers import Dense, Dropout"
      ]
    },
    {
      "cell_type": "code",
      "execution_count": 14,
      "id": "70d721df",
      "metadata": {
        "execution": {
          "iopub.execute_input": "2022-07-06T12:07:42.316208Z",
          "iopub.status.busy": "2022-07-06T12:07:42.315527Z",
          "iopub.status.idle": "2022-07-06T12:07:42.387833Z",
          "shell.execute_reply": "2022-07-06T12:07:42.388425Z",
          "shell.execute_reply.started": "2022-07-03T16:13:51.19657Z"
        },
        "id": "70d721df",
        "papermill": {
          "duration": 0.106898,
          "end_time": "2022-07-06T12:07:42.388622",
          "exception": false,
          "start_time": "2022-07-06T12:07:42.281724",
          "status": "completed"
        },
        "tags": []
      },
      "outputs": [],
      "source": [
        "model=Sequential()\n",
        "model.add(Dense(125, activation=\"relu\"))\n",
        "model.add(Dense(125, activation=\"relu\"))\n",
        "model.add(Dense(5, \"softmax\"))"
      ]
    },
    {
      "cell_type": "markdown",
      "id": "f56913a3",
      "metadata": {
        "id": "f56913a3",
        "papermill": {
          "duration": 0.031456,
          "end_time": "2022-07-06T12:07:42.451694",
          "exception": false,
          "start_time": "2022-07-06T12:07:42.420238",
          "status": "completed"
        },
        "tags": []
      },
      "source": [
        "<div style=\"font-size:1.2em;\">I'm compiling the model with <b>adam</b> optimizer, <b>cross-entropy</b> loss and <b>accuracy</b> metric. Also, I'm running this model for <b>50</b> epochs. I'm also using a <b>validation set</b> which will be tested on the model at the end of each epoch.</div>"
      ]
    },
    {
      "cell_type": "code",
      "execution_count": 15,
      "id": "1906654b",
      "metadata": {
        "colab": {
          "base_uri": "https://localhost:8080/"
        },
        "execution": {
          "iopub.execute_input": "2022-07-06T12:07:42.519899Z",
          "iopub.status.busy": "2022-07-06T12:07:42.518813Z",
          "iopub.status.idle": "2022-07-06T12:07:48.388078Z",
          "shell.execute_reply": "2022-07-06T12:07:48.387288Z",
          "shell.execute_reply.started": "2022-07-03T16:13:51.28224Z"
        },
        "id": "1906654b",
        "outputId": "cef66f2f-7875-4b99-e77e-f2dd9452f15b",
        "papermill": {
          "duration": 5.904644,
          "end_time": "2022-07-06T12:07:48.388237",
          "exception": false,
          "start_time": "2022-07-06T12:07:42.483593",
          "status": "completed"
        },
        "tags": []
      },
      "outputs": [
        {
          "name": "stdout",
          "output_type": "stream",
          "text": [
            "Epoch 1/10\n",
            "13/13 [==============================] - 1s 26ms/step - loss: 3.2383 - accuracy: 0.2605 - val_loss: 1.6198 - val_accuracy: 0.3069\n",
            "Epoch 2/10\n",
            "13/13 [==============================] - 0s 6ms/step - loss: 1.1765 - accuracy: 0.4963 - val_loss: 1.1381 - val_accuracy: 0.5050\n",
            "Epoch 3/10\n",
            "13/13 [==============================] - 0s 6ms/step - loss: 0.8693 - accuracy: 0.5980 - val_loss: 0.7861 - val_accuracy: 0.7327\n",
            "Epoch 4/10\n",
            "13/13 [==============================] - 0s 6ms/step - loss: 0.7610 - accuracy: 0.7543 - val_loss: 0.8801 - val_accuracy: 0.6436\n",
            "Epoch 5/10\n",
            "13/13 [==============================] - 0s 6ms/step - loss: 0.6880 - accuracy: 0.6998 - val_loss: 0.6580 - val_accuracy: 0.6931\n",
            "Epoch 6/10\n",
            "13/13 [==============================] - 0s 5ms/step - loss: 0.5691 - accuracy: 0.8561 - val_loss: 0.5472 - val_accuracy: 0.9703\n",
            "Epoch 7/10\n",
            "13/13 [==============================] - 0s 5ms/step - loss: 0.5004 - accuracy: 0.9082 - val_loss: 0.4793 - val_accuracy: 1.0000\n",
            "Epoch 8/10\n",
            "13/13 [==============================] - 0s 5ms/step - loss: 0.4359 - accuracy: 0.9404 - val_loss: 0.4615 - val_accuracy: 1.0000\n",
            "Epoch 9/10\n",
            "13/13 [==============================] - 0s 11ms/step - loss: 0.4349 - accuracy: 0.9057 - val_loss: 0.4648 - val_accuracy: 0.8020\n",
            "Epoch 10/10\n",
            "13/13 [==============================] - 0s 4ms/step - loss: 0.3488 - accuracy: 0.9876 - val_loss: 0.3884 - val_accuracy: 0.9901\n"
          ]
        }
      ],
      "source": [
        "epochs=10\n",
        "model.compile(loss='categorical_crossentropy', optimizer='adam', metrics=['accuracy'])\n",
        "stats=model.fit(X_train, y_train, epochs=epochs, validation_split=0.2)"
      ]
    },
    {
      "cell_type": "markdown",
      "id": "2bac106d",
      "metadata": {
        "id": "2bac106d",
        "papermill": {
          "duration": 0.073847,
          "end_time": "2022-07-06T12:07:48.538333",
          "exception": false,
          "start_time": "2022-07-06T12:07:48.464486",
          "status": "completed"
        },
        "tags": []
      },
      "source": [
        "<div style=\"font-size:1.5em;\"><b>Visualizing Training Results</b></div>"
      ]
    },
    {
      "cell_type": "code",
      "execution_count": 16,
      "id": "2bf42ec3",
      "metadata": {
        "colab": {
          "base_uri": "https://localhost:8080/",
          "height": 718
        },
        "execution": {
          "iopub.execute_input": "2022-07-06T12:07:48.698001Z",
          "iopub.status.busy": "2022-07-06T12:07:48.697062Z",
          "iopub.status.idle": "2022-07-06T12:07:49.074445Z",
          "shell.execute_reply": "2022-07-06T12:07:49.074958Z",
          "shell.execute_reply.started": "2022-07-03T16:13:57.135136Z"
        },
        "id": "2bf42ec3",
        "outputId": "e76309dc-06fe-47d7-fac0-96b0c5515e55",
        "papermill": {
          "duration": 0.462103,
          "end_time": "2022-07-06T12:07:49.075150",
          "exception": false,
          "start_time": "2022-07-06T12:07:48.613047",
          "status": "completed"
        },
        "tags": []
      },
      "outputs": [
        {
          "data": {
            "image/png": "[encoded data removed]",
            "text/plain": [
              "<Figure size 1000x800 with 1 Axes>"
            ]
          },
          "metadata": {},
          "output_type": "display_data"
        }
      ],
      "source": [
        "stats_df=pd.DataFrame(stats.history)\n",
        "stats_df['epoch']=list(range(epochs))\n",
        "plot.figure(figsize=(10, 8))\n",
        "sb.lineplot(y='loss', x='epoch', data=stats_df, color='deeppink', linewidth=2.5, label=\"Training loss\")\n",
        "sb.lineplot(y='val_loss', x='epoch', data=stats_df, color='darkturquoise', linewidth=2.5, label=\"Validation loss\")\n",
        "plot.grid()\n",
        "plot.legend()\n",
        "plot.title(\"Training and validation loss\")\n",
        "plot.xticks(range(0, 51, 5));"
      ]
    },
    {
      "cell_type": "markdown",
      "id": "5b58c242",
      "metadata": {
        "id": "5b58c242",
        "papermill": {
          "duration": 0.075435,
          "end_time": "2022-07-06T12:07:49.225558",
          "exception": false,
          "start_time": "2022-07-06T12:07:49.150123",
          "status": "completed"
        },
        "tags": []
      },
      "source": [
        "<div style=\"font-size:1.2em;\">Since we can see in the graph that the training and validation loss curve converged around the 25th epoch, this model has the best fit on this dataset.</div>"
      ]
    },
    {
      "cell_type": "code",
      "execution_count": 17,
      "id": "62f7e218",
      "metadata": {
        "colab": {
          "base_uri": "https://localhost:8080/",
          "height": 718
        },
        "execution": {
          "iopub.execute_input": "2022-07-06T12:07:49.384129Z",
          "iopub.status.busy": "2022-07-06T12:07:49.383010Z",
          "iopub.status.idle": "2022-07-06T12:07:49.776207Z",
          "shell.execute_reply": "2022-07-06T12:07:49.776780Z",
          "shell.execute_reply.started": "2022-07-03T16:13:57.552274Z"
        },
        "id": "62f7e218",
        "outputId": "da858c31-c72f-4e9b-c75e-0ccb9d7fc3ae",
        "papermill": {
          "duration": 0.474509,
          "end_time": "2022-07-06T12:07:49.776965",
          "exception": false,
          "start_time": "2022-07-06T12:07:49.302456",
          "status": "completed"
        },
        "tags": []
      },
      "outputs": [
        {
          "data": {
            "image/png": "[encoded data removed]",
            "text/plain": [
              "<Figure size 1000x800 with 1 Axes>"
            ]
          },
          "metadata": {},
          "output_type": "display_data"
        }
      ],
      "source": [
        "stats_df=pd.DataFrame(stats.history)\n",
        "stats_df['epoch']=list(range(epochs))\n",
        "plot.figure(figsize=(10, 8))\n",
        "sb.lineplot(y='accuracy', x='epoch', data=stats_df, color='deeppink', linewidth=2.5, label=\"Training accuracy\")\n",
        "sb.lineplot(y='val_accuracy', x='epoch', data=stats_df, color='darkturquoise', linewidth=2.5, \\\n",
        "            label=\"Validation accuracy\")\n",
        "plot.grid()\n",
        "plot.legend()\n",
        "plot.title(\"Training and validation accuracy\")\n",
        "plot.xticks(range(0, 51, 5));"
      ]
    },
    {
      "cell_type": "markdown",
      "id": "f2842114",
      "metadata": {
        "id": "f2842114",
        "papermill": {
          "duration": 0.076211,
          "end_time": "2022-07-06T12:07:49.929159",
          "exception": false,
          "start_time": "2022-07-06T12:07:49.852948",
          "status": "completed"
        },
        "tags": []
      },
      "source": [
        "<div style=\"font-size:1.5em;\"><b>Testing the model on Test set</b></div>"
      ]
    },
    {
      "cell_type": "code",
      "execution_count": 18,
      "id": "fd4ef4ac",
      "metadata": {
        "colab": {
          "base_uri": "https://localhost:8080/"
        },
        "execution": {
          "iopub.execute_input": "2022-07-06T12:07:50.087863Z",
          "iopub.status.busy": "2022-07-06T12:07:50.087134Z",
          "iopub.status.idle": "2022-07-06T12:07:50.170820Z",
          "shell.execute_reply": "2022-07-06T12:07:50.171535Z",
          "shell.execute_reply.started": "2022-07-03T16:13:57.909533Z"
        },
        "id": "fd4ef4ac",
        "outputId": "488763e7-5f45-4dcd-b288-952cdee240af",
        "papermill": {
          "duration": 0.166311,
          "end_time": "2022-07-06T12:07:50.171748",
          "exception": false,
          "start_time": "2022-07-06T12:07:50.005437",
          "status": "completed"
        },
        "tags": []
      },
      "outputs": [
        {
          "name": "stdout",
          "output_type": "stream",
          "text": [
            "4/4 [==============================] - 0s 2ms/step - loss: 0.3481 - accuracy: 0.9841\n"
          ]
        }
      ],
      "source": [
        "_, accuracy=model.evaluate(X_test, y_test)"
      ]
    },
    {
      "cell_type": "markdown",
      "id": "d7292c8b",
      "metadata": {
        "id": "d7292c8b",
        "papermill": {
          "duration": 0.078831,
          "end_time": "2022-07-06T12:07:50.330159",
          "exception": false,
          "start_time": "2022-07-06T12:07:50.251328",
          "status": "completed"
        },
        "tags": []
      },
      "source": [
        "<div style=\"font-size:1.2em;\">This model has an <b>accuracy</b> of <b>100%</b> on the test set.</div>"
      ]
    },
    {
      "cell_type": "code",
      "execution_count": 19,
      "id": "SESAv4XEy9xP",
      "metadata": {
        "colab": {
          "base_uri": "https://localhost:8080/",
          "height": 206
        },
        "id": "SESAv4XEy9xP",
        "outputId": "c2950c37-77b3-4140-d6b5-881a7c8c09b3"
      },
      "outputs": [
        {
          "data": {
            "text/html": [
              "<div>\n",
              "<style scoped>\n",
              "    .dataframe tbody tr th:only-of-type {\n",
              "        vertical-align: middle;\n",
              "    }\n",
              "\n",
              "    .dataframe tbody tr th {\n",
              "        vertical-align: top;\n",
              "    }\n",
              "\n",
              "    .dataframe thead th {\n",
              "        text-align: right;\n",
              "    }\n",
              "</style>\n",
              "<table border=\"1\" class=\"dataframe\">\n",
              "  <thead>\n",
              "    <tr style=\"text-align: right;\">\n",
              "      <th></th>\n",
              "      <th>respiration_rate</th>\n",
              "      <th>limb_movement</th>\n",
              "      <th>blood_oxygen</th>\n",
              "      <th>sleeping_hours</th>\n",
              "      <th>heart_rate</th>\n",
              "      <th>stress_level</th>\n",
              "    </tr>\n",
              "  </thead>\n",
              "  <tbody>\n",
              "    <tr>\n",
              "      <th>0</th>\n",
              "      <td>25.680</td>\n",
              "      <td>16.600</td>\n",
              "      <td>89.840</td>\n",
              "      <td>1.840</td>\n",
              "      <td>74.20</td>\n",
              "      <td>3</td>\n",
              "    </tr>\n",
              "    <tr>\n",
              "      <th>1</th>\n",
              "      <td>25.104</td>\n",
              "      <td>15.880</td>\n",
              "      <td>89.552</td>\n",
              "      <td>1.552</td>\n",
              "      <td>72.76</td>\n",
              "      <td>3</td>\n",
              "    </tr>\n",
              "    <tr>\n",
              "      <th>2</th>\n",
              "      <td>20.000</td>\n",
              "      <td>10.000</td>\n",
              "      <td>95.000</td>\n",
              "      <td>7.000</td>\n",
              "      <td>60.00</td>\n",
              "      <td>1</td>\n",
              "    </tr>\n",
              "    <tr>\n",
              "      <th>3</th>\n",
              "      <td>23.536</td>\n",
              "      <td>13.920</td>\n",
              "      <td>88.768</td>\n",
              "      <td>0.768</td>\n",
              "      <td>68.84</td>\n",
              "      <td>3</td>\n",
              "    </tr>\n",
              "    <tr>\n",
              "      <th>4</th>\n",
              "      <td>17.248</td>\n",
              "      <td>6.496</td>\n",
              "      <td>96.248</td>\n",
              "      <td>8.248</td>\n",
              "      <td>53.12</td>\n",
              "      <td>0</td>\n",
              "    </tr>\n",
              "  </tbody>\n",
              "</table>\n",
              "</div>"
            ],
            "text/plain": [
              "   respiration_rate  limb_movement  blood_oxygen  sleeping_hours  heart_rate  \\\n",
              "0            25.680         16.600        89.840           1.840       74.20   \n",
              "1            25.104         15.880        89.552           1.552       72.76   \n",
              "2            20.000         10.000        95.000           7.000       60.00   \n",
              "3            23.536         13.920        88.768           0.768       68.84   \n",
              "4            17.248          6.496        96.248           8.248       53.12   \n",
              "\n",
              "   stress_level  \n",
              "0             3  \n",
              "1             3  \n",
              "2             1  \n",
              "3             3  \n",
              "4             0  "
            ]
          },
          "execution_count": 19,
          "metadata": {},
          "output_type": "execute_result"
        }
      ],
      "source": [
        "data.head()"
      ]
    },
    {
      "cell_type": "code",
      "execution_count": 20,
      "id": "b0YzUO7c1pYA",
      "metadata": {
        "colab": {
          "base_uri": "https://localhost:8080/",
          "height": 206
        },
        "id": "b0YzUO7c1pYA",
        "outputId": "82669638-31b0-466b-8e1f-7fceacdd86bc"
      },
      "outputs": [
        {
          "data": {
            "text/html": [
              "<div>\n",
              "<style scoped>\n",
              "    .dataframe tbody tr th:only-of-type {\n",
              "        vertical-align: middle;\n",
              "    }\n",
              "\n",
              "    .dataframe tbody tr th {\n",
              "        vertical-align: top;\n",
              "    }\n",
              "\n",
              "    .dataframe thead th {\n",
              "        text-align: right;\n",
              "    }\n",
              "</style>\n",
              "<table border=\"1\" class=\"dataframe\">\n",
              "  <thead>\n",
              "    <tr style=\"text-align: right;\">\n",
              "      <th></th>\n",
              "      <th>respiration_rate</th>\n",
              "      <th>limb_movement</th>\n",
              "      <th>blood_oxygen</th>\n",
              "      <th>sleeping_hours</th>\n",
              "      <th>heart_rate</th>\n",
              "    </tr>\n",
              "  </thead>\n",
              "  <tbody>\n",
              "    <tr>\n",
              "      <th>303</th>\n",
              "      <td>25.136</td>\n",
              "      <td>15.920</td>\n",
              "      <td>89.568</td>\n",
              "      <td>1.568</td>\n",
              "      <td>72.84</td>\n",
              "    </tr>\n",
              "    <tr>\n",
              "      <th>186</th>\n",
              "      <td>16.816</td>\n",
              "      <td>5.632</td>\n",
              "      <td>95.816</td>\n",
              "      <td>7.816</td>\n",
              "      <td>52.04</td>\n",
              "    </tr>\n",
              "    <tr>\n",
              "      <th>12</th>\n",
              "      <td>17.440</td>\n",
              "      <td>6.880</td>\n",
              "      <td>96.440</td>\n",
              "      <td>8.440</td>\n",
              "      <td>53.60</td>\n",
              "    </tr>\n",
              "    <tr>\n",
              "      <th>8</th>\n",
              "      <td>16.112</td>\n",
              "      <td>4.224</td>\n",
              "      <td>95.112</td>\n",
              "      <td>7.112</td>\n",
              "      <td>50.28</td>\n",
              "    </tr>\n",
              "    <tr>\n",
              "      <th>543</th>\n",
              "      <td>29.296</td>\n",
              "      <td>18.648</td>\n",
              "      <td>86.944</td>\n",
              "      <td>0.000</td>\n",
              "      <td>83.24</td>\n",
              "    </tr>\n",
              "  </tbody>\n",
              "</table>\n",
              "</div>"
            ],
            "text/plain": [
              "     respiration_rate  limb_movement  blood_oxygen  sleeping_hours  heart_rate\n",
              "303            25.136         15.920        89.568           1.568       72.84\n",
              "186            16.816          5.632        95.816           7.816       52.04\n",
              "12             17.440          6.880        96.440           8.440       53.60\n",
              "8              16.112          4.224        95.112           7.112       50.28\n",
              "543            29.296         18.648        86.944           0.000       83.24"
            ]
          },
          "execution_count": 20,
          "metadata": {},
          "output_type": "execute_result"
        }
      ],
      "source": [
        "X_train.head()"
      ]
    },
    {
      "cell_type": "code",
      "execution_count": 21,
      "id": "86119b98",
      "metadata": {
        "colab": {
          "base_uri": "https://localhost:8080/"
        },
        "id": "86119b98",
        "outputId": "845b847b-9bdc-40ea-9341-b0143d41ab1a",
        "papermill": {
          "duration": 0.079354,
          "end_time": "2022-07-06T12:07:50.490865",
          "exception": false,
          "start_time": "2022-07-06T12:07:50.411511",
          "status": "completed"
        },
        "tags": []
      },
      "outputs": [
        {
          "name": "stdout",
          "output_type": "stream",
          "text": [
            "1/1 [==============================] - 0s 114ms/step\n"
          ]
        },
        {
          "data": {
            "text/plain": [
              "4"
            ]
          },
          "execution_count": 21,
          "metadata": {},
          "output_type": "execute_result"
        }
      ],
      "source": [
        "np.argmax(model.predict([[24.8,17.75,93.6,6.5,90.4]]))"
      ]
    },
    {
      "cell_type": "code",
      "execution_count": null,
      "id": "vP1qE0v7z-bv",
      "metadata": {
        "id": "vP1qE0v7z-bv"
      },
      "outputs": [],
      "source": []
    }
  ],
  "metadata": {
    "colab": {
      "provenance": []
    },
    "kernelspec": {
      "display_name": "Python 3",
      "language": "python",
      "name": "python3"
    },
    "language_info": {
      "codemirror_mode": {
        "name": "ipython",
        "version": 3
      },
      "file_extension": ".py",
      "mimetype": "text/x-python",
      "name": "python",
      "nbconvert_exporter": "python",
      "pygments_lexer": "ipython3",
      "version": "3.9.13"
    },
    "papermill": {
      "default_parameters": {},
      "duration": 30.784482,
      "end_time": "2022-07-06T12:07:53.367263",
      "environment_variables": {},
      "exception": null,
      "input_path": "__notebook__.ipynb",
      "output_path": "__notebook__.ipynb",
      "parameters": {},
      "start_time": "2022-07-06T12:07:22.582781",
      "version": "2.3.3"
    }
  },
  "nbformat": 4,
  "nbformat_minor": 5
}
